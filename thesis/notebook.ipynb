{
 "cells": [
  {
   "cell_type": "markdown",
   "metadata": {},
   "source": [
    "*Note: The gym window might not close automatically after each rollout. In between cells, just leave it open.*"
   ]
  },
  {
   "cell_type": "markdown",
   "metadata": {
    "collapsed": true,
    "pycharm": {
     "name": "#%% md\n"
    }
   },
   "source": [
    "**Imports**"
   ]
  },
  {
   "cell_type": "code",
   "execution_count": 1,
   "metadata": {
    "pycharm": {
     "name": "#%%\n"
    }
   },
   "outputs": [],
   "source": [
    "#%load_ext autoreload\n",
    "#%autoreload 2\n",
    "#%matplotlib inline\n",
    "\n",
    "import os\n",
    "import sys\n",
    "module_path = os.path.abspath(os.path.join('..'))\n",
    "if module_path not in sys.path:\n",
    "    sys.path.append(module_path)\n",
    "\n",
    "import gym\n",
    "from thesis.main import main, rollout\n",
    "from thesis.util import animate\n",
    "from IPython.display import display, HTML\n",
    "from stable_baselines3.common.vec_env import DummyVecEnv\n",
    "from stable_baselines3.common.monitor import Monitor"
   ]
  },
  {
   "cell_type": "markdown",
   "metadata": {
    "pycharm": {
     "name": "#%% md\n"
    }
   },
   "source": [
    "**Mathematical Pendulum**"
   ]
  },
  {
   "cell_type": "code",
   "execution_count": 2,
   "metadata": {
    "pycharm": {
     "name": "#%%\n"
    }
   },
   "outputs": [],
   "source": [
    "from gym.envs.registration import register\n",
    "# Register environment\n",
    "register(\n",
    "    id='MathPendulum-v0',\n",
    "    max_episode_steps=100,\n",
    "    entry_point='sb3_contrib.common.envs.pendulum.math_pendulum_env:MathPendulumEnv'\n",
    ")"
   ]
  },
  {
   "cell_type": "markdown",
   "metadata": {
    "pycharm": {
     "name": "#%% md\n"
    }
   },
   "source": [
    "Define a safe region. Here we use a precomputed region of attraction (defined via LQR constraints that is used as fail-safe backup).<br>Once the pendulum violates the safety restriction, we turn its color orange.<br><br>Note: The safe_region has been manually passed a posteriori, since the environment only needs it for visualisation purposes.<br>Thus,  here we do not use the safe region. We will need it later, though! "
   ]
  },
  {
   "cell_type": "code",
   "execution_count": 9,
   "metadata": {
    "pycharm": {
     "name": "#%%\n"
    }
   },
   "outputs": [],
   "source": [
    "from sb3_contrib.common.safety.safe_region import SafeRegion\n",
    "import numpy as np\n",
    "from numpy import pi\n",
    "\n",
    "from sb3_contrib.common.safety.safe_region import SafeRegion\n",
    "max_thdot = 5.890486225480862\n",
    "vertices = np.array([\n",
    "        [-pi, max_thdot],  \n",
    "        [-0.785398163397448, max_thdot],  \n",
    "        [pi, -max_thdot],\n",
    "        [0.785398163397448, -max_thdot]\n",
    "])\n",
    "# Pass as vertex or halfspace representation.\n",
    "safe_region = SafeRegion(vertices=vertices)"
   ]
  },
  {
   "cell_type": "markdown",
   "metadata": {
    "pycharm": {
     "name": "#%% md\n"
    }
   },
   "source": [
    "Sample from continuous action space."
   ]
  },
  {
   "cell_type": "code",
   "execution_count": 10,
   "metadata": {},
   "outputs": [],
   "source": [
    "# Initialise environment\n",
    "env = gym.make('MathPendulum-v0')\n",
    "# Wrap with Monitor (suppresses warnings)\n",
    "env = Monitor(env)\n",
    "# Wrap with DummyVecEnv\n",
    "env = DummyVecEnv([lambda: env])\n",
    "\n",
    "frames = rollout(env, render=True, rgb_array=True, sleep=.1)\n",
    "#HTML(animate(frames, dpi=75).to_html5_video())"
   ]
  },
  {
   "cell_type": "markdown",
   "metadata": {},
   "source": [
    "Our RL policy should work with discrete actions. Nevertheless, some safety approaches or fail-safe controllers might work with continuous actions. The wrapper **action_discretizer** wraps environment using a continuous action space and transforms it into a discrete using one."
   ]
  },
  {
   "cell_type": "code",
   "execution_count": 11,
   "metadata": {},
   "outputs": [],
   "source": [
    "from sb3_contrib.common.wrappers.action_discretizer import ActionDiscretizer\n",
    "from gym.spaces import Discrete\n",
    "\n",
    "# Initialise environment\n",
    "env = gym.make('MathPendulum-v0')\n",
    "# Discretize actions\n",
    "env = ActionDiscretizer(\n",
    "    env=env,\n",
    "    disc_action_space=Discrete(15), #Pass the new discrete action space\n",
    "    transform_fn=lambda a:2*(a-7) #Pass an unbounded transformation function (discrete -> continuous action)\n",
    ")"
   ]
  },
  {
   "cell_type": "markdown",
   "metadata": {},
   "source": [
    "For further safety approaches down below, we might need a fail-safe controller. Here we utilise a LQR-controller. The MathPendulumEnv already implements it as part of the **safe_action** method (can be triggered manually for debugging purposes)."
   ]
  },
  {
   "cell_type": "code",
   "execution_count": 12,
   "metadata": {},
   "outputs": [],
   "source": [
    "# Initialise environment\n",
    "env = gym.make('MathPendulum-v0')\n",
    "# Wrap with Monitor (suppresses warnings)\n",
    "env = Monitor(env)\n",
    "# Wrap with DummyVecEnv\n",
    "env = DummyVecEnv([lambda: env])\n",
    "\n",
    "frames = rollout(env, render=True, rgb_array=True, env_safe_action=True, sleep=.1)\n",
    "#HTML(animate(frames, dpi=75).to_html5_video())"
   ]
  },
  {
   "cell_type": "markdown",
   "metadata": {},
   "source": [
    "**Safety Wrappers**"
   ]
  },
  {
   "cell_type": "markdown",
   "metadata": {},
   "source": [
    "Every safety wrapper expects to be given a **SafeRegion** (see above). Further parameters depend on the specific approach.\n",
    "\n",
    "<br>The **SafetyShield** wrapper expects to be given to functions:<br>\n",
    "\n",
    "- **is_safe_action_fn**: Union[str, Callable[[gym.Env, SafeRegion, float], bool]]<br>\n",
    "Given the env, the safe region and the action, this method returns a bool if the action would be safe to take. *Will most likely look like below?*<br><br>\n",
    "\n",
    "- **safe_action_fn**: Union[str, Callable[[gym.Env, SafeRegion], np.ndarray]]<br>\n",
    "Given the env and the safe region; returns a fail-safe action to be taken if the policy's action is unsafe. <br>\n",
    "\n",
    "Optionally a third function **punishment_fn** can be given.<br>\n",
    "\n",
    "- punishment_fn: Optional[Union[str, Callable[[gym.Env, SafeRegion, float, float], float]]] = None\n",
    "Given the env, the safe region, the policy's action and the shield's action. Is only called whenever the shield is active. Returns a reward which is **added** to the reward, i.e. most likely you want to return a negative reward.\n",
    "\n",
    "These functions can be passed as unbounded functions or, if already implemented in the environment, as according str."
   ]
  },
  {
   "cell_type": "code",
   "execution_count": 8,
   "metadata": {},
   "outputs": [],
   "source": [
    "from sb3_contrib.common.wrappers import SafetyShield\n",
    "\n",
    "def is_safe_action(env: gym.Env, safe_region: SafeRegion, action: float):\n",
    "    # Specific to environment\n",
    "    theta, thdot = env.state\n",
    "    state = env.dynamics(theta, thdot, action) \n",
    "    return state in safe_region\n",
    "\n",
    "def punishment_fn(env: gym.Env, safe_region: SafeRegion, action: float, action_bar: float) -> float:\n",
    "                return -abs(action - action_bar)\n",
    "\n",
    "# Initialise environment\n",
    "env = gym.make('MathPendulum-v0')\n",
    "\n",
    "# Wrap with SafetyShield\n",
    "env = SafetyShield(\n",
    "                env=env,\n",
    "                safe_region=safe_region,\n",
    "                is_safe_action_fn=is_safe_action,\n",
    "                safe_action_fn=\"safe_action\", #Already implemented in env (LQR controller)\n",
    "                punishment_fn=punishment_fn)\n",
    "\n",
    "# Discretize actions\n",
    "env = ActionDiscretizer(\n",
    "    env=env,\n",
    "    disc_action_space=Discrete(15), #Pass the new discrete action space\n",
    "    transform_fn=lambda a:2*(a-7) #Pass an unbounded transformation function (discrete -> continuous action)\n",
    ")\n",
    "\n",
    "# Wrap with Monitor (suppresses warnings)\n",
    "env = Monitor(env)\n",
    "# Wrap with DummyVecEnv\n",
    "env = DummyVecEnv([lambda: env])\n",
    "\n",
    "# Takes random (discrete) actions; but wrapped in SafetyShield\n",
    "frames = rollout(env, render=True, rgb_array=True, sleep=.1)\n",
    "#HTML(animate(frames, dpi=75).to_html5_video())"
   ]
  },
  {
   "cell_type": "code",
   "execution_count": null,
   "metadata": {},
   "outputs": [],
   "source": []
  }
 ],
 "metadata": {
  "kernelspec": {
   "display_name": "Python 3",
   "language": "python",
   "name": "python3"
  },
  "language_info": {
   "codemirror_mode": {
    "name": "ipython",
    "version": 3
   },
   "file_extension": ".py",
   "mimetype": "text/x-python",
   "name": "python",
   "nbconvert_exporter": "python",
   "pygments_lexer": "ipython3",
   "version": "3.8.8"
  }
 },
 "nbformat": 4,
 "nbformat_minor": 1
}